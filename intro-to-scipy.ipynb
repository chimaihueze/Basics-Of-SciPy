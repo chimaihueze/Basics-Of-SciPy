{
 "metadata": {
  "language_info": {
   "codemirror_mode": {
    "name": "ipython",
    "version": 3
   },
   "file_extension": ".py",
   "mimetype": "text/x-python",
   "name": "python",
   "nbconvert_exporter": "python",
   "pygments_lexer": "ipython3",
   "version": 3
  },
  "orig_nbformat": 2
 },
 "nbformat": 4,
 "nbformat_minor": 2,
 "cells": [
  {
   "cell_type": "code",
   "execution_count": null,
   "metadata": {},
   "outputs": [],
   "source": [
    "# SciPy is a scientific computation library that uses NumPy underneath.\n",
    "# SciPy stands for Scientific Python.\n",
    "# It provides more utility functions for optimization, stats and signal processing.\n",
    "# Like NumPy, SciPy is open source so we can use it freely.\n",
    "# SciPy was created by NumPy's creator Travis Olliphant."
   ]
  }
 ]
}