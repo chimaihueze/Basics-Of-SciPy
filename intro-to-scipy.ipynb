{
 "metadata": {
  "language_info": {
   "codemirror_mode": {
    "name": "ipython",
    "version": 3
   },
   "file_extension": ".py",
   "mimetype": "text/x-python",
   "name": "python",
   "nbconvert_exporter": "python",
   "pygments_lexer": "ipython3",
   "version": "3.9.1-final"
  },
  "orig_nbformat": 2,
  "kernelspec": {
   "name": "python391jvsc74a57bd057ae10df0ce81e929dd2c30a036359a892629e803d6b3728fc9d9d0d990384aa",
   "display_name": "Python 3.9.1 64-bit"
  },
  "metadata": {
   "interpreter": {
    "hash": "57ae10df0ce81e929dd2c30a036359a892629e803d6b3728fc9d9d0d990384aa"
   }
  }
 },
 "nbformat": 4,
 "nbformat_minor": 2,
 "cells": [
  {
   "cell_type": "code",
   "execution_count": 1,
   "metadata": {},
   "outputs": [],
   "source": [
    "# SciPy is a scientific computation library that uses NumPy underneath.\n",
    "# SciPy stands for Scientific Python.\n",
    "# It provides more utility functions for optimization, stats and signal processing.\n",
    "# Like NumPy, SciPy is open source so we can use it freely.\n",
    "# SciPy was created by NumPy's creator Travis Olliphant.\n",
    "\n",
    "# SciPy is predominantly written in Python, but a few segments are written in C."
   ]
  },
  {
   "cell_type": "code",
   "execution_count": 2,
   "metadata": {},
   "outputs": [],
   "source": [
    "import scipy as sc"
   ]
  },
  {
   "cell_type": "code",
   "execution_count": 3,
   "metadata": {},
   "outputs": [
    {
     "output_type": "stream",
     "name": "stdout",
     "text": [
      "1.6.2\n"
     ]
    }
   ],
   "source": [
    "print(sc.__version__)"
   ]
  }
 ]
}