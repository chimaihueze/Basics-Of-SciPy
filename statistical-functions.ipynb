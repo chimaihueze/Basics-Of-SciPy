{
 "metadata": {
  "language_info": {
   "codemirror_mode": {
    "name": "ipython",
    "version": 3
   },
   "file_extension": ".py",
   "mimetype": "text/x-python",
   "name": "python",
   "nbconvert_exporter": "python",
   "pygments_lexer": "ipython3",
   "version": "3.9.1-final"
  },
  "orig_nbformat": 2,
  "kernelspec": {
   "name": "python391jvsc74a57bd057ae10df0ce81e929dd2c30a036359a892629e803d6b3728fc9d9d0d990384aa",
   "display_name": "Python 3.9.1 64-bit"
  },
  "metadata": {
   "interpreter": {
    "hash": "57ae10df0ce81e929dd2c30a036359a892629e803d6b3728fc9d9d0d990384aa"
   }
  }
 },
 "nbformat": 4,
 "nbformat_minor": 2,
 "cells": [
  {
   "cell_type": "code",
   "execution_count": null,
   "metadata": {},
   "outputs": [],
   "source": [
    "# Here, we'll be using the SciPy.Stats sub-library.\n",
    "# The SciPy.Stats module contains a large number of probability distributions as well as a growing library of statistical functions such as:\n",
    "\n",
    "# Continuous and Discrete Distributions (i.e Normal, Uniform, Binomial, etc.)\n",
    "# Descriptive Statistcs\n",
    "# Statistical Tests (i.e T-Test)"
   ]
  },
  {
   "cell_type": "code",
   "execution_count": 1,
   "metadata": {},
   "outputs": [],
   "source": [
    "from scipy import stats\n",
    "import numpy as np "
   ]
  },
  {
   "cell_type": "code",
   "execution_count": 4,
   "metadata": {},
   "outputs": [
    {
     "output_type": "stream",
     "name": "stdout",
     "text": [
      "[-0.30574408 -1.22699584 -0.9776703  -0.04014614 -1.17170817  0.66428875\n  0.60954122  0.55218255 -0.0189219  -1.85728277]\n"
     ]
    }
   ],
   "source": [
    "# Print Normal Random Variables\n",
    "print(stats.norm.rvs(size = 10))"
   ]
  },
  {
   "cell_type": "code",
   "execution_count": 9,
   "metadata": {},
   "outputs": [
    {
     "output_type": "stream",
     "name": "stdout",
     "text": [
      "10.417679931681052\n"
     ]
    }
   ],
   "source": [
    "# Print a Normal Random Variable\n",
    "print(stats.norm.rvs(10))"
   ]
  }
 ]
}